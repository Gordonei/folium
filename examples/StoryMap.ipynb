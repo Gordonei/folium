{
 "cells": [
  {
   "cell_type": "code",
   "execution_count": null,
   "metadata": {},
   "outputs": [],
   "source": [
    "import os\n",
    "\n",
    "import numpy as np\n",
    "\n",
    "import folium\n",
    "from folium.plugins import HeatMap, MarkerCluster, StoryMap\n",
    "\n",
    "print(folium.__version__)"
   ]
  },
  {
   "cell_type": "code",
   "execution_count": null,
   "metadata": {},
   "outputs": [],
   "source": [
    "data_1 = (\n",
    "    np.random.normal(size=(100, 3)) *\n",
    "    np.array([[1, 1, 1]]) +\n",
    "    np.array([[-1.3, 36.82, 1]])\n",
    ").tolist()\n",
    "data_2 = (\n",
    "    np.random.normal(size=(100, 3)) *\n",
    "    np.array([[1, 1, 1]]) +\n",
    "    np.array([[-1.3, 36.82, 1]])\n",
    ").tolist()\n",
    "\n",
    "hm_1 = HeatMap(data_1)\n",
    "hm_2 = HeatMap(data_2)"
   ]
  },
  {
   "cell_type": "code",
   "execution_count": null,
   "metadata": {},
   "outputs": [],
   "source": [
    "markers = 10\n",
    "mc = MarkerCluster(\n",
    "    locations=[data_1[np.random.randint(markers)][:2] for i in range(markers)], \n",
    "    popups=[\"Stuff happened here.\" for i in range(markers)],\n",
    "    options={\"disableClusteringAtZoom\": 8}\n",
    ")"
   ]
  },
  {
   "cell_type": "code",
   "execution_count": null,
   "metadata": {},
   "outputs": [],
   "source": [
    "story_data = (\n",
    "    (\"Year 1's heatmap\", hm_1),\n",
    "    (\"Year 1's markers\", mc),\n",
    "    (\"Year 2's heatmap\", hm_2),\n",
    ")\n",
    "sm = StoryMap(story_data, pan_zoom=8)"
   ]
  },
  {
   "cell_type": "code",
   "execution_count": null,
   "metadata": {},
   "outputs": [],
   "source": [
    "m = folium.Map([-1.2921, 36.8219], tiles='stamentoner', zoom_start=6)\n",
    "\n",
    "sm.add_to(m)\n",
    "\n",
    "m.save(os.path.join('results', 'Storymap.html'))\n",
    "\n",
    "m"
   ]
  },
  {
   "cell_type": "code",
   "execution_count": null,
   "metadata": {},
   "outputs": [],
   "source": []
  }
 ],
 "metadata": {
  "kernelspec": {
   "display_name": "Python 3",
   "language": "python",
   "name": "python3"
  },
  "language_info": {
   "codemirror_mode": {
    "name": "ipython",
    "version": 3
   },
   "file_extension": ".py",
   "mimetype": "text/x-python",
   "name": "python",
   "nbconvert_exporter": "python",
   "pygments_lexer": "ipython3",
   "version": "3.7.5"
  }
 },
 "nbformat": 4,
 "nbformat_minor": 2
}
